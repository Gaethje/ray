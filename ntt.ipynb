{
 "cells": [
  {
   "cell_type": "code",
   "execution_count": 3,
   "id": "unauthorized-plenty",
   "metadata": {},
   "outputs": [],
   "source": [
    "import numpy as np\n",
    "import pandas as pd\n"
   ]
  },
  {
   "cell_type": "code",
   "execution_count": 4,
   "id": "successful-heating",
   "metadata": {},
   "outputs": [],
   "source": [
    "data = pd.read_excel(r'fy10_2.xlsx', engine='openpyxl')"
   ]
  },
  {
   "cell_type": "code",
   "execution_count": 5,
   "id": "greek-raise",
   "metadata": {},
   "outputs": [],
   "source": [
    "data.rename(columns={list(data)[0]:'ric',list(data)[1]:'comp_name',list(data)[2]:'country',list(data)[3]:'postal_code',list(data)[4]:'curr_rev',list(data)[5]:'2011_rev'}, inplace=True)"
   ]
  },
  {
   "cell_type": "code",
   "execution_count": 4,
   "id": "documented-oxygen",
   "metadata": {},
   "outputs": [
    {
     "data": {
      "text/html": [
       "<div>\n",
       "<style scoped>\n",
       "    .dataframe tbody tr th:only-of-type {\n",
       "        vertical-align: middle;\n",
       "    }\n",
       "\n",
       "    .dataframe tbody tr th {\n",
       "        vertical-align: top;\n",
       "    }\n",
       "\n",
       "    .dataframe thead th {\n",
       "        text-align: right;\n",
       "    }\n",
       "</style>\n",
       "<table border=\"1\" class=\"dataframe\">\n",
       "  <thead>\n",
       "    <tr style=\"text-align: right;\">\n",
       "      <th></th>\n",
       "      <th>ric</th>\n",
       "      <th>comp_name</th>\n",
       "      <th>country</th>\n",
       "      <th>postal_code</th>\n",
       "      <th>curr_rev</th>\n",
       "      <th>2011_rev</th>\n",
       "    </tr>\n",
       "  </thead>\n",
       "  <tbody>\n",
       "    <tr>\n",
       "      <th>0</th>\n",
       "      <td>4921.T</td>\n",
       "      <td>Fancl Corp</td>\n",
       "      <td>Japan</td>\n",
       "      <td>231-8528</td>\n",
       "      <td>1.179299e+09</td>\n",
       "      <td>1.065012e+09</td>\n",
       "    </tr>\n",
       "    <tr>\n",
       "      <th>1</th>\n",
       "      <td>6104.T</td>\n",
       "      <td>Shibaura Machine Co Ltd</td>\n",
       "      <td>Japan</td>\n",
       "      <td>410-8510</td>\n",
       "      <td>1.085846e+09</td>\n",
       "      <td>7.992082e+08</td>\n",
       "    </tr>\n",
       "    <tr>\n",
       "      <th>2</th>\n",
       "      <td>8051.T</td>\n",
       "      <td>Yamazen Corp</td>\n",
       "      <td>Japan</td>\n",
       "      <td>550-8660</td>\n",
       "      <td>4.391249e+09</td>\n",
       "      <td>2.583030e+09</td>\n",
       "    </tr>\n",
       "    <tr>\n",
       "      <th>3</th>\n",
       "      <td>2294.T</td>\n",
       "      <td>Kakiyasu Honten Co Ltd</td>\n",
       "      <td>Japan</td>\n",
       "      <td>511-8555</td>\n",
       "      <td>4.065606e+08</td>\n",
       "      <td>1.938483e+08</td>\n",
       "    </tr>\n",
       "    <tr>\n",
       "      <th>4</th>\n",
       "      <td>6744.T</td>\n",
       "      <td>Nohmi Bosai Ltd</td>\n",
       "      <td>Japan</td>\n",
       "      <td>102-8277</td>\n",
       "      <td>1.090803e+09</td>\n",
       "      <td>9.003745e+08</td>\n",
       "    </tr>\n",
       "    <tr>\n",
       "      <th>...</th>\n",
       "      <td>...</td>\n",
       "      <td>...</td>\n",
       "      <td>...</td>\n",
       "      <td>...</td>\n",
       "      <td>...</td>\n",
       "      <td>...</td>\n",
       "    </tr>\n",
       "    <tr>\n",
       "      <th>2145</th>\n",
       "      <td>5000011466</td>\n",
       "      <td>Japan Nuclear Fuel Ltd</td>\n",
       "      <td>Japan</td>\n",
       "      <td>039-3212</td>\n",
       "      <td>2.462495e+09</td>\n",
       "      <td>9.388173e+08</td>\n",
       "    </tr>\n",
       "    <tr>\n",
       "      <th>2146</th>\n",
       "      <td>5000016800</td>\n",
       "      <td>Trans Tokyo Bay Highway Corp</td>\n",
       "      <td>Japan</td>\n",
       "      <td>143-0016</td>\n",
       "      <td>3.338486e+07</td>\n",
       "      <td>1.416456e+07</td>\n",
       "    </tr>\n",
       "    <tr>\n",
       "      <th>2147</th>\n",
       "      <td>5000018582</td>\n",
       "      <td>Yanase &amp; Co Ltd</td>\n",
       "      <td>Japan</td>\n",
       "      <td>105-8575</td>\n",
       "      <td>3.677696e+09</td>\n",
       "      <td>3.569191e+09</td>\n",
       "    </tr>\n",
       "    <tr>\n",
       "      <th>2148</th>\n",
       "      <td>5036195640</td>\n",
       "      <td>Like Kids Inc</td>\n",
       "      <td>Japan</td>\n",
       "      <td>150-0043</td>\n",
       "      <td>2.119065e+08</td>\n",
       "      <td>5.981188e+07</td>\n",
       "    </tr>\n",
       "    <tr>\n",
       "      <th>2149</th>\n",
       "      <td>5065361111</td>\n",
       "      <td>Sogo Medical Holdings Co Ltd</td>\n",
       "      <td>Japan</td>\n",
       "      <td>810-0001</td>\n",
       "      <td>1.304710e+09</td>\n",
       "      <td>6.584111e+08</td>\n",
       "    </tr>\n",
       "  </tbody>\n",
       "</table>\n",
       "<p>2150 rows × 6 columns</p>\n",
       "</div>"
      ],
      "text/plain": [
       "             ric                     comp_name country postal_code  \\\n",
       "0         4921.T                    Fancl Corp   Japan    231-8528   \n",
       "1         6104.T       Shibaura Machine Co Ltd   Japan    410-8510   \n",
       "2         8051.T                  Yamazen Corp   Japan    550-8660   \n",
       "3         2294.T        Kakiyasu Honten Co Ltd   Japan    511-8555   \n",
       "4         6744.T               Nohmi Bosai Ltd   Japan    102-8277   \n",
       "...          ...                           ...     ...         ...   \n",
       "2145  5000011466        Japan Nuclear Fuel Ltd   Japan    039-3212   \n",
       "2146  5000016800  Trans Tokyo Bay Highway Corp   Japan    143-0016   \n",
       "2147  5000018582               Yanase & Co Ltd   Japan    105-8575   \n",
       "2148  5036195640                 Like Kids Inc   Japan    150-0043   \n",
       "2149  5065361111  Sogo Medical Holdings Co Ltd   Japan    810-0001   \n",
       "\n",
       "          curr_rev      2011_rev  \n",
       "0     1.179299e+09  1.065012e+09  \n",
       "1     1.085846e+09  7.992082e+08  \n",
       "2     4.391249e+09  2.583030e+09  \n",
       "3     4.065606e+08  1.938483e+08  \n",
       "4     1.090803e+09  9.003745e+08  \n",
       "...            ...           ...  \n",
       "2145  2.462495e+09  9.388173e+08  \n",
       "2146  3.338486e+07  1.416456e+07  \n",
       "2147  3.677696e+09  3.569191e+09  \n",
       "2148  2.119065e+08  5.981188e+07  \n",
       "2149  1.304710e+09  6.584111e+08  \n",
       "\n",
       "[2150 rows x 6 columns]"
      ]
     },
     "execution_count": 4,
     "metadata": {},
     "output_type": "execute_result"
    }
   ],
   "source": [
    "data"
   ]
  },
  {
   "cell_type": "markdown",
   "id": "governing-complaint",
   "metadata": {},
   "source": [
    "# test\n"
   ]
  },
  {
   "cell_type": "code",
   "execution_count": 2,
   "id": "greatest-exploration",
   "metadata": {},
   "outputs": [],
   "source": [
    "import pgeocode"
   ]
  },
  {
   "cell_type": "code",
   "execution_count": 16,
   "id": "patient-friendship",
   "metadata": {},
   "outputs": [
    {
     "data": {
      "text/plain": [
       "postal_code       410-8510\n",
       "country_code           NaN\n",
       "place_name             NaN\n",
       "state_name             NaN\n",
       "state_code             NaN\n",
       "county_name            NaN\n",
       "county_code            NaN\n",
       "community_name         NaN\n",
       "community_code         NaN\n",
       "latitude               NaN\n",
       "longitude              NaN\n",
       "accuracy               NaN\n",
       "Name: 0, dtype: object"
      ]
     },
     "execution_count": 16,
     "metadata": {},
     "output_type": "execute_result"
    }
   ],
   "source": [
    "nomi = pgeocode.Nominatim('jp')\n",
    "nomi.query_postal_code(\"410-8510\")\n"
   ]
  },
  {
   "cell_type": "code",
   "execution_count": 12,
   "id": "successful-livestock",
   "metadata": {},
   "outputs": [],
   "source": [
    "## <class 'pandas.core.series.Series'>"
   ]
  },
  {
   "cell_type": "code",
   "execution_count": 14,
   "id": "classified-flavor",
   "metadata": {},
   "outputs": [],
   "source": [
    "x = nomi.query_postal_code(\"177-0052\")\n",
    "ku = x['county_name']\n",
    "long = x['longitude']\n",
    "lat = x['latitude']"
   ]
  },
  {
   "cell_type": "code",
   "execution_count": 18,
   "id": "automated-steal",
   "metadata": {},
   "outputs": [
    {
     "data": {
      "text/plain": [
       "35.726"
      ]
     },
     "execution_count": 18,
     "metadata": {},
     "output_type": "execute_result"
    }
   ],
   "source": [
    "lat"
   ]
  },
  {
   "cell_type": "markdown",
   "id": "congressional-rough",
   "metadata": {},
   "source": [
    "## create three new empty columns to data\n",
    "## take every postal code and do above operation\n",
    "## append to empty columns"
   ]
  },
  {
   "cell_type": "code",
   "execution_count": 7,
   "id": "hispanic-channels",
   "metadata": {},
   "outputs": [],
   "source": [
    "postdf = data[['postal_code']].copy()"
   ]
  },
  {
   "cell_type": "code",
   "execution_count": 8,
   "id": "substantial-terror",
   "metadata": {},
   "outputs": [
    {
     "data": {
      "text/html": [
       "<div>\n",
       "<style scoped>\n",
       "    .dataframe tbody tr th:only-of-type {\n",
       "        vertical-align: middle;\n",
       "    }\n",
       "\n",
       "    .dataframe tbody tr th {\n",
       "        vertical-align: top;\n",
       "    }\n",
       "\n",
       "    .dataframe thead th {\n",
       "        text-align: right;\n",
       "    }\n",
       "</style>\n",
       "<table border=\"1\" class=\"dataframe\">\n",
       "  <thead>\n",
       "    <tr style=\"text-align: right;\">\n",
       "      <th></th>\n",
       "      <th>postal_code</th>\n",
       "    </tr>\n",
       "  </thead>\n",
       "  <tbody>\n",
       "    <tr>\n",
       "      <th>0</th>\n",
       "      <td>231-8528</td>\n",
       "    </tr>\n",
       "    <tr>\n",
       "      <th>1</th>\n",
       "      <td>410-8510</td>\n",
       "    </tr>\n",
       "    <tr>\n",
       "      <th>2</th>\n",
       "      <td>550-8660</td>\n",
       "    </tr>\n",
       "    <tr>\n",
       "      <th>3</th>\n",
       "      <td>511-8555</td>\n",
       "    </tr>\n",
       "    <tr>\n",
       "      <th>4</th>\n",
       "      <td>102-8277</td>\n",
       "    </tr>\n",
       "    <tr>\n",
       "      <th>...</th>\n",
       "      <td>...</td>\n",
       "    </tr>\n",
       "    <tr>\n",
       "      <th>2145</th>\n",
       "      <td>039-3212</td>\n",
       "    </tr>\n",
       "    <tr>\n",
       "      <th>2146</th>\n",
       "      <td>143-0016</td>\n",
       "    </tr>\n",
       "    <tr>\n",
       "      <th>2147</th>\n",
       "      <td>105-8575</td>\n",
       "    </tr>\n",
       "    <tr>\n",
       "      <th>2148</th>\n",
       "      <td>150-0043</td>\n",
       "    </tr>\n",
       "    <tr>\n",
       "      <th>2149</th>\n",
       "      <td>810-0001</td>\n",
       "    </tr>\n",
       "  </tbody>\n",
       "</table>\n",
       "<p>2150 rows × 1 columns</p>\n",
       "</div>"
      ],
      "text/plain": [
       "     postal_code\n",
       "0       231-8528\n",
       "1       410-8510\n",
       "2       550-8660\n",
       "3       511-8555\n",
       "4       102-8277\n",
       "...          ...\n",
       "2145    039-3212\n",
       "2146    143-0016\n",
       "2147    105-8575\n",
       "2148    150-0043\n",
       "2149    810-0001\n",
       "\n",
       "[2150 rows x 1 columns]"
      ]
     },
     "execution_count": 8,
     "metadata": {},
     "output_type": "execute_result"
    }
   ],
   "source": [
    "postdf"
   ]
  },
  {
   "cell_type": "code",
   "execution_count": 9,
   "id": "suspected-sword",
   "metadata": {},
   "outputs": [],
   "source": [
    "xx = postdf.to_numpy()"
   ]
  },
  {
   "cell_type": "code",
   "execution_count": 10,
   "id": "expected-cable",
   "metadata": {},
   "outputs": [
    {
     "data": {
      "text/plain": [
       "array([['231-8528'],\n",
       "       ['410-8510'],\n",
       "       ['550-8660'],\n",
       "       ...,\n",
       "       ['105-8575'],\n",
       "       ['150-0043'],\n",
       "       ['810-0001']], dtype=object)"
      ]
     },
     "execution_count": 10,
     "metadata": {},
     "output_type": "execute_result"
    }
   ],
   "source": [
    "xx"
   ]
  },
  {
   "cell_type": "code",
   "execution_count": 14,
   "id": "acoustic-buying",
   "metadata": {},
   "outputs": [
    {
     "name": "stdout",
     "output_type": "stream",
     "text": [
      "----------ku------\n",
      "nan\n",
      "----------long------\n",
      "nan\n",
      "----------lat------\n",
      "nan\n",
      "-----------nla......\n",
      "[nan]\n",
      "[nan]\n"
     ]
    }
   ],
   "source": [
    "n = []\n",
    "l = []\n",
    "a = []\n",
    "\n",
    "nmi = pgeocode.Nominatim('jp')\n",
    "sr = nmi.query_postal_code('231-8528')\n",
    "kuu = sr['county_name']\n",
    "longg = sr['longitude']\n",
    "latt = sr['latitude']\n",
    "n.append(kuu)\n",
    "print(\"----------ku------\")\n",
    "print(kuu)\n",
    "l.append(longg)\n",
    "print(\"----------long------\")\n",
    "print(longg)\n",
    "a.append(latt)\n",
    "print(\"----------lat------\")\n",
    "print(latt)\n",
    "print(\"-----------nla......\")\n",
    "print(n)\n",
    "print(l)\n",
    "        "
   ]
  },
  {
   "cell_type": "code",
   "execution_count": null,
   "id": "statutory-handy",
   "metadata": {},
   "outputs": [],
   "source": [
    "namelonalt()"
   ]
  },
  {
   "cell_type": "code",
   "execution_count": null,
   "id": "clear-tomorrow",
   "metadata": {},
   "outputs": [],
   "source": []
  }
 ],
 "metadata": {
  "kernelspec": {
   "display_name": "Python 3",
   "language": "python",
   "name": "python3"
  },
  "language_info": {
   "codemirror_mode": {
    "name": "ipython",
    "version": 3
   },
   "file_extension": ".py",
   "mimetype": "text/x-python",
   "name": "python",
   "nbconvert_exporter": "python",
   "pygments_lexer": "ipython3",
   "version": "3.8.8"
  }
 },
 "nbformat": 4,
 "nbformat_minor": 5
}
